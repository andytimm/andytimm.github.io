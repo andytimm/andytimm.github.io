{
  "cells": [
    {
      "cell_type": "raw",
      "metadata": {},
      "source": [
        "---\n",
        "layout: post\n",
        "title: Variational Inference for MRP with Reliable Posterior Distributions\n",
        "subtitle: Part 7- Putting it all together\n",
        "date: 2023-07-12\n",
        "draft: True\n",
        "categories:\n",
        "  - MRP\n",
        "  - Variational Inference\n",
        "---"
      ],
      "id": "ab0a0c69"
    },
    {
      "cell_type": "code",
      "metadata": {},
      "source": [
        "import os\n",
        "print(os.getenv(\"QUARTO_PYTHON\"))"
      ],
      "id": "0527d5a1",
      "execution_count": null,
      "outputs": []
    },
    {
      "cell_type": "code",
      "metadata": {},
      "source": [
        "import pystan\n",
        "import vistan"
      ],
      "id": "f574d7bc",
      "execution_count": null,
      "outputs": []
    },
    {
      "cell_type": "code",
      "metadata": {},
      "source": [
        "model_code = 'parameters {real y;} model {y ~ normal(0,1);}'\n",
        "model = pystan.StanModel(model_code=model_code,verbose = True)\n",
        "y = model.sampling().extract()['y']\n",
        "y.mean()"
      ],
      "id": "a77eb516",
      "execution_count": null,
      "outputs": []
    },
    {
      "cell_type": "code",
      "metadata": {},
      "source": [
        "import vistan \n",
        "#import matplotlib.pyplot as plt\n",
        "import numpy as np \n",
        "import scipy\n",
        "code = \"\"\"\n",
        "data {\n",
        "    int<lower=0> N;\n",
        "    int<lower=0,upper=1> x[N];\n",
        "}\n",
        "parameters {\n",
        "    real<lower=0,upper=1> p;\n",
        "}\n",
        "model {\n",
        "    p ~ beta(1,1);\n",
        "    x ~ bernoulli(p);\n",
        "}\n",
        "\"\"\"\n",
        "data = {\"N\":5, \"x\":[0,1,0,0,0]}\n",
        "algo = vistan.recipe() # runs Meanfield VI by default\n",
        "posterior = algo(code, data) \n",
        "samples = posterior.sample(100000)\n",
        "\n",
        "#points = np.arange(0,1,.01)\n",
        "#plt.hist(samples['p'], 200, density = True, histtype = 'step')\n",
        "#plt.plot(points,scipy.stats.beta(2,5).pdf(points),label='True Posterior')\n",
        "#plt.legend()\n",
        "#plt.show()"
      ],
      "id": "6c561169",
      "execution_count": null,
      "outputs": []
    }
  ],
  "metadata": {
    "kernelspec": {
      "name": "python3",
      "language": "python",
      "display_name": "Python 3 (ipykernel)"
    }
  },
  "nbformat": 4,
  "nbformat_minor": 5
}